{
 "cells": [
  {
   "cell_type": "markdown",
   "id": "da4f1d0e-d40e-45e5-b9e9-a5942ea34acf",
   "metadata": {},
   "source": [
    "# Deep-Learning-HW1"
   ]
  },
  {
   "cell_type": "markdown",
   "id": "31e3c69d-9398-4434-bb10-564f7f5a4bb1",
   "metadata": {},
   "source": [
    "Because the data after feature extraction is too large to be upload, so you have run the feature extraction code in .ipynb in order to get transformed data.\n",
    "Before running the model, it shows which dataset should you used to run train the model.\n",
    "I used multiprocessing method in order to shorten the time needed for running. Only for NN and CNN model would take much more longer time to run."
   ]
  },
  {
   "cell_type": "code",
   "execution_count": null,
   "id": "110232da-71ee-4521-9061-73c6da07d03d",
   "metadata": {},
   "outputs": [],
   "source": []
  }
 ],
 "metadata": {
  "kernelspec": {
   "display_name": "jupyterlab",
   "language": "python",
   "name": "jupyterlab"
  },
  "language_info": {
   "codemirror_mode": {
    "name": "ipython",
    "version": 3
   },
   "file_extension": ".py",
   "mimetype": "text/x-python",
   "name": "python",
   "nbconvert_exporter": "python",
   "pygments_lexer": "ipython3",
   "version": "3.9.13"
  }
 },
 "nbformat": 4,
 "nbformat_minor": 5
}
